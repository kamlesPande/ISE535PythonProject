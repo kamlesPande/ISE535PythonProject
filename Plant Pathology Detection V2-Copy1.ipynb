{
 "cells": [
  {
   "cell_type": "code",
   "execution_count": 1,
   "id": "f292c574",
   "metadata": {},
   "outputs": [],
   "source": [
    "import os,shutil\n",
    "import json\n",
    "import numpy as np\n",
    "import pandas as pd\n",
    "import matplotlib.pyplot as plt\n",
    "import cv2\n",
    "import zipfile\n",
    "import tensorflow as tf\n",
    "from tensorflow import keras\n",
    "from tqdm import tqdm\n",
    "import sklearn\n",
    "\n"
   ]
  },
  {
   "cell_type": "code",
   "execution_count": 4,
   "id": "1f64d123",
   "metadata": {},
   "outputs": [
    {
     "name": "stdout",
     "output_type": "stream",
     "text": [
      "Tis is test github\n"
     ]
    }
   ],
   "source": [
    "print(\"Tis is test github\")"
   ]
  },
  {
   "cell_type": "code",
   "execution_count": 2,
   "id": "f295375a",
   "metadata": {},
   "outputs": [
    {
     "data": {
      "text/html": [
       "\n",
       "<style>\n",
       ".output_png {\n",
       "    display: table-cell;\n",
       "    text-align: center;\n",
       "    vertical-align: middle;\n",
       "}\n",
       "</style>\n"
      ],
      "text/plain": [
       "<IPython.core.display.HTML object>"
      ]
     },
     "execution_count": 2,
     "metadata": {},
     "output_type": "execute_result"
    }
   ],
   "source": [
    "from IPython.core.display import HTML\n",
    "HTML(\"\"\"\n",
    "<style>\n",
    ".output_png {\n",
    "    display: table-cell;\n",
    "    text-align: center;\n",
    "    vertical-align: middle;\n",
    "}\n",
    "</style>\n",
    "\"\"\")"
   ]
  },
  {
   "cell_type": "code",
   "execution_count": 3,
   "id": "0337c391",
   "metadata": {},
   "outputs": [
    {
     "data": {
      "text/html": [
       "        <script type=\"text/javascript\">\n",
       "        window.PlotlyConfig = {MathJaxConfig: 'local'};\n",
       "        if (window.MathJax) {MathJax.Hub.Config({SVG: {font: \"STIX-Web\"}});}\n",
       "        if (typeof require !== 'undefined') {\n",
       "        require.undef(\"plotly\");\n",
       "        requirejs.config({\n",
       "            paths: {\n",
       "                'plotly': ['https://cdn.plot.ly/plotly-latest.min']\n",
       "            }\n",
       "        });\n",
       "        require(['plotly'], function(Plotly) {\n",
       "            window._Plotly = Plotly;\n",
       "        });\n",
       "        }\n",
       "        </script>\n",
       "        "
      ]
     },
     "metadata": {},
     "output_type": "display_data"
    },
    {
     "name": "stdout",
     "output_type": "stream",
     "text": [
      "Tensorflow Version: 2.5.0\n"
     ]
    }
   ],
   "source": [
    "from plotly.offline import plot, iplot, init_notebook_mode\n",
    "import plotly.graph_objs as go\n",
    "init_notebook_mode(connected=True)\n",
    "import plotly.express as px\n",
    "from plotly.subplots import make_subplots\n",
    "print(\"Tensorflow Version: {}\".format(tf.__version__))"
   ]
  },
  {
   "cell_type": "code",
   "execution_count": null,
   "id": "9afd8b3d",
   "metadata": {},
   "outputs": [],
   "source": [
    "# Data Import\n",
    "import kaggle\n",
    "\n",
    "from kaggle.api.kaggle_api_extended import KaggleApi\n",
    "api = KaggleApi()\n",
    "api.authenticate()\n",
    "\n",
    "# Kaggle API to download the dataset in local drive\n",
    "#! kaggle competitions download -c plant-pathology-2020-fgvc7\n",
    "\n",
    "root = os.getcwd()\n",
    "\n",
    "zipFile = 'plant-pathology-2020-fgvc7.zip'\n",
    "root = os.getcwd()\n",
    "filePath = os.path.join(root,zipFile)\n",
    "\n",
    "print(\"[INFO] Extracting downloaded zip dataset...... \\n\")\n",
    "if os.path.exists(os.path.join(root,'images')) == False:\n",
    "    with zipfile.ZipFile(filePath, 'r') as file:\n",
    "        file.extractall()      \n",
    "print(\"[INFO] Zip extract completed...... \\n\")\n",
    "\n",
    "\n",
    "print(\"[INFO] Generating train dataframe...... \\n\")\n",
    "\n",
    "trainDf = pd.read_csv(os.path.join(root, \"train.csv\"))\n",
    "print(\"[INFO] Total shape of train dataset: {}\".format(trainDf.shape))\n",
    "\n",
    "  \n",
    "# function to get column name with value one for each row in dataframe\n",
    "def get_class(row):\n",
    "    return(row.index[row.apply(lambda x: x==1)][0])\n",
    "\n",
    "# prepare a ClassName column\n",
    "trainDf['DiseaseClass'] = trainDf.apply(lambda row:get_class(row), axis=1)\n",
    "\n",
    "trainDf.tail(8)"
   ]
  },
  {
   "cell_type": "code",
   "execution_count": null,
   "id": "e135ff09",
   "metadata": {},
   "outputs": [],
   "source": [
    "# split train dataset into train and validation (80-20 ratio)\n",
    "from sklearn.model_selection import train_test_split\n",
    "y = trainDf[\"DiseaseClass\"]\n",
    "df_train, df_val = train_test_split(trainDf, test_size=0.2, random_state=42, stratify=y)\n",
    "\n",
    "print(\"[INFO] Shape of train dataset is: {}\\n\".format(df_train.shape))\n",
    "print(\"[INFO] Shape of validation dataset is: {}\\n\".format(df_val.shape))"
   ]
  },
  {
   "cell_type": "code",
   "execution_count": null,
   "id": "f9c10a2e",
   "metadata": {},
   "outputs": [],
   "source": [
    "trainDir = os.path.join(root, 'train') # train directory\n",
    "valDir = os.path.join(root, \"val\")     # validation directory\n",
    "testDir = os.path.join(root, 'test')   #test directory\n",
    "\n",
    "\n",
    "print(\"[INFO] Creating separate dirs for disease class in train directory ! \\n\")\n",
    "if os.path.exists(trainDir) == False:  # if directory is absent craete one\n",
    "    os.mkdir('train')\n",
    "    trainDir = os.path.join(root, 'train') # train directory\n",
    "    os.mkdir(os.path.join(trainDir, \"healthy\"))\n",
    "    os.mkdir(os.path.join(trainDir, \"rust\"))\n",
    "    os.mkdir(os.path.join(trainDir, \"scab\"))\n",
    "    os.mkdir(os.path.join(trainDir, \"multiple_diseases\"))\n",
    "    trainImage = list(df_train[\"image_id\"])\n",
    "#     for filename in os.listdir(os.path.join(root,\"images\")):\n",
    "#         tail = os.path.split(filename)[-1]\n",
    "#         if tail.split(\"_\")[0]== \"Train\":\n",
    "#             trainImage.append(filename)\n",
    "            \n",
    "    for file in trainImage:\n",
    "        file = file + '.jpg'\n",
    "        index = trainDf.loc[trainDf[\"image_id\"] == file.split(\".\")[0], \"DiseaseClass\"].index[0]\n",
    "        label = trainDf.loc[trainDf[\"image_id\"] == file.split(\".\")[0], \"DiseaseClass\"][index]\n",
    "        src = os.path.join(root, 'images',file)\n",
    "        dst = os.path.join(trainDir, label, file )\n",
    "        shutil.copy2(src, dst)\n",
    "        \n",
    "print(\"[INFO] Creating separate dirs for disease class in validation directory ! \\n\") \n",
    "if os.path.exists(valDir) == False:  # if directory is absent craete one\n",
    "    os.mkdir('val')\n",
    "    valDir = os.path.join(root, \"val\") # validation directory\n",
    "    os.mkdir(os.path.join(valDir, \"healthy\"))\n",
    "    os.mkdir(os.path.join(valDir, \"rust\"))\n",
    "    os.mkdir(os.path.join(valDir, \"scab\"))\n",
    "    os.mkdir(os.path.join(valDir, \"multiple_diseases\"))\n",
    "    \n",
    "    valImage = list(df_val[\"image_id\"])\n",
    "    for file in valImage:\n",
    "        file = file + '.jpg'\n",
    "        index = trainDf.loc[trainDf[\"image_id\"] == file.split(\".\")[0], \"DiseaseClass\"].index[0]\n",
    "        label = trainDf.loc[trainDf[\"image_id\"] == file.split(\".\")[0], \"DiseaseClass\"][index]\n",
    "        src = os.path.join(root, 'images',file)\n",
    "        dst = os.path.join(valDir, label, file )\n",
    "        shutil.copy2(src, dst)\n",
    "        \n",
    "\n",
    "print(\"[INFO] Creating separate test directory ! \\n\")\n",
    "if os.path.exists(testDir) == False:  # if directory is absent craete one\n",
    "    os.mkdir('test')\n",
    "    testDir = os.path.join(root, 'test')\n",
    "    testImage = []\n",
    "    for filename in os.listdir(os.path.join(root,\"images\")):\n",
    "        tail = os.path.split(filename)[-1]\n",
    "        if tail.split(\"_\")[0]== \"Test\":\n",
    "            testImage.append(filename)\n",
    "    for file in testImage:\n",
    "        src = os.path.join(os.path.join(root, 'images'),file)\n",
    "        dst = os.path.join(root, 'test')\n",
    "        shutil.copy2(src, dst)\n",
    "\n",
    "\n",
    "print(\"[INFO] Total test images in test directory: {}\".format(len(os.listdir(testDir))))\n"
   ]
  },
  {
   "cell_type": "markdown",
   "id": "be434825",
   "metadata": {},
   "source": [
    "## TARGET CLASS"
   ]
  },
  {
   "cell_type": "code",
   "execution_count": null,
   "id": "ab5eb2d7",
   "metadata": {},
   "outputs": [],
   "source": [
    "import plotly.express as px\n",
    "\n",
    "df = px.data.tips()\n",
    "fig = px.parallel_categories(trainDf, dimensions=[ 'healthy', 'rust', 'multiple_diseases', 'scab'],\n",
    "                             color = \"healthy\",\n",
    "                color_continuous_scale=px.colors.sequential.Inferno,\n",
    "                labels={'rust':'RUST LEAF', 'healthy':'HEALTHY LEAF', 'multiple_diseases':'MULTIPLE DISEASES', 'scab':'SCAB'},\n",
    "                            title=\"PARALLEL CATEGORICAL PLOT OF DISEASE CLASS \")\n",
    "fig.show()"
   ]
  },
  {
   "cell_type": "code",
   "execution_count": null,
   "id": "b5a15de7",
   "metadata": {},
   "outputs": [],
   "source": [
    "className = [\"healthy\", \"multiple_diseases\", \"rust\", \"scab\"]\n",
    "classCount = []\n",
    "for name in className:\n",
    "    result = sum(trainDf[trainDf[name]==1].value_counts())\n",
    "    classCount.append(result)\n",
    "    \n",
    "data = {\"ClassName\":className, \"Count\":classCount}  \n",
    "countDf = pd.DataFrame(data=data)\n",
    "\n",
    "fig = px.bar(countDf, x='ClassName',y='Count', title=\"Distribution of Image Disease Class in Train Dataset\",\n",
    "            width=800, height=400)\n",
    "\n",
    "fig.update_traces(marker_color='rgb(150,100,225)', marker_line_color='rgb(8,48,107)',\n",
    "                  marker_line_width=1.5, opacity=0.4)\n",
    "fig.show()"
   ]
  },
  {
   "cell_type": "code",
   "execution_count": null,
   "id": "99a6d20e",
   "metadata": {},
   "outputs": [],
   "source": [
    "# Dataset Visulization\n",
    "images = os.listdir(os.path.join(root,\"images\"))[:12]\n",
    "images\n",
    "className = []    \n",
    "plt.figure(figsize = (12,12))\n",
    "for i,img in enumerate(images):\n",
    "    imgPath = os.path.join(root,\"images\",img)\n",
    "    plt.subplot(4,3,i+1)\n",
    "    plt.axis('off')\n",
    "    #plt.title(title, size=9, color='black')\n",
    "    img = cv2.imread(imgPath)\n",
    "    img = cv2.cvtColor(img, cv2.COLOR_BGR2RGB)\n",
    "    plt.imshow(img)\n",
    "    #fig = px.imshow(img)\n",
    "    #fig.show()\n",
    "plt.show()"
   ]
  },
  {
   "cell_type": "code",
   "execution_count": null,
   "id": "e72d55b3",
   "metadata": {},
   "outputs": [],
   "source": [
    "# Visulaization of a single leaf\n",
    "\n",
    "image = os.listdir(os.path.join(root, \"train\", \"rust\"))[23]\n",
    "index = trainDf.loc[trainDf[\"image_id\"]==image.split(\".\")[0], \"DiseaseClass\"].index[0]\n",
    "title = trainDf.loc[trainDf[\"image_id\"]==image.split(\".\")[0], \"DiseaseClass\"][index]\n",
    "imgPath = os.path.join(root, \"train\", \"rust\", image)\n",
    "img = cv2.imread(imgPath)\n",
    "img = cv2.cvtColor(img, cv2.COLOR_BGR2RGB)   #for cv2 conversion from BGR to RGB\n",
    "fig = px.imshow(img)\n",
    "fig.update_layout(title_text=str(title), title_x=0.5)\n",
    "fig.show()\n"
   ]
  },
  {
   "cell_type": "code",
   "execution_count": null,
   "id": "49309225",
   "metadata": {},
   "outputs": [],
   "source": [
    "file = os.listdir(os.path.join(root,\"train\",\"multiple_diseases\"))[9]\n",
    "imgPath = os.path.join(root, \"train\", \"multiple_diseases\", file)\n",
    "img = cv2.imread(imgPath)\n",
    "img = cv2.cvtColor(img, cv2.COLOR_BGR2RGB)\n",
    "fig = make_subplots(1,2)\n",
    "fig.add_trace(go.Image(z=img), 1, 1)\n",
    "for channel,color in enumerate(['red', 'green', 'blue']):\n",
    "    fig.add_trace(go.Histogram(x=img[...,channel].ravel(), opacity = 0.5,\n",
    "                              marker_color = color, name = '%s Channel'%color), 1, 2)\n",
    "fig.update_layout(height = 400, title = \"LEAF WITH MULTIPLE DISEASE\", title_x=0.5)\n",
    "fig.show()"
   ]
  },
  {
   "cell_type": "code",
   "execution_count": null,
   "id": "32d4f6bf",
   "metadata": {},
   "outputs": [],
   "source": [
    "file = os.listdir(os.path.join(root,\"train\",\"healthy\"))[9]\n",
    "imgPath = os.path.join(root, \"train\", \"healthy\", file)\n",
    "\n",
    "img = cv2.imread(imgPath)\n",
    "img = cv2.cvtColor(img, cv2.COLOR_BGR2RGB)\n",
    "fig = make_subplots(1,2)\n",
    "fig.add_trace(go.Image(z=img), 1, 1)\n",
    "for channel,color in enumerate(['red', 'green', 'blue']):\n",
    "    fig.add_trace(go.Histogram(x=img[...,channel].ravel(), opacity = 0.5,\n",
    "                              marker_color = color, name = '%s Channel'%color), 1, 2)\n",
    "fig.update_layout(height = 400, title = \"HEALTHY LEAF\", title_x=0.5)\n",
    "fig.show()"
   ]
  },
  {
   "cell_type": "code",
   "execution_count": null,
   "id": "efb70092",
   "metadata": {},
   "outputs": [],
   "source": [
    "file = os.listdir(os.path.join(root,\"train\",\"rust\"))[9]\n",
    "imgPath = os.path.join(root, \"train\", \"rust\", file)\n",
    "\n",
    "img = cv2.imread(imgPath)\n",
    "img = cv2.cvtColor(img, cv2.COLOR_BGR2RGB)\n",
    "fig = make_subplots(1,2)\n",
    "fig.add_trace(go.Image(z=img), 1, 1)\n",
    "for channel,color in enumerate(['red', 'green', 'blue']):\n",
    "    fig.add_trace(go.Histogram(x=img[...,channel].ravel(), opacity = 0.5,\n",
    "                              marker_color = color, name = '%s Channel'%color), 1, 2)\n",
    "fig.update_layout(height = 400, title = \"RUST LEAF\", title_x=0.5)\n",
    "fig.show()"
   ]
  },
  {
   "cell_type": "code",
   "execution_count": null,
   "id": "a69c7665",
   "metadata": {},
   "outputs": [],
   "source": [
    "file = os.listdir(os.path.join(root,\"train\",\"scab\"))[9]\n",
    "imgPath = os.path.join(root, \"train\", \"scab\", file)\n",
    "\n",
    "img = cv2.imread(imgPath)\n",
    "img = cv2.cvtColor(img, cv2.COLOR_BGR2RGB)\n",
    "fig = make_subplots(1,2)\n",
    "fig.add_trace(go.Image(z=img), 1, 1)\n",
    "for channel,color in enumerate(['red', 'green', 'blue']):\n",
    "    fig.add_trace(go.Histogram(x=img[...,channel].ravel(), opacity = 0.5,\n",
    "                              marker_color = color, name = '%s Channel'%color), 1, 2)\n",
    "fig.update_layout(height = 400, title = \"SCAB LEAF\", title_x=0.5)\n",
    "fig.show()"
   ]
  },
  {
   "cell_type": "markdown",
   "id": "79e9646e",
   "metadata": {},
   "source": [
    "# IMAGE PRE-PROCESSING AND IMAGE AUGMENTATION"
   ]
  },
  {
   "cell_type": "markdown",
   "id": "7874fd00",
   "metadata": {},
   "source": [
    "## CANNY EDGE DETECTION\n",
    "\n",
    "For detecting strong edge of the image, reducing noise in the image by using Gaussian kernel"
   ]
  },
  {
   "cell_type": "code",
   "execution_count": null,
   "id": "bbc0734f",
   "metadata": {},
   "outputs": [],
   "source": [
    "img = os.listdir(trainDir)[:50]\n",
    "plt.figure(figsize = (12,12))\n",
    "\n",
    "imgPath = os.path.join(trainDir, img[10])\n",
    "\n",
    "image = cv2.imread(imgPath)\n",
    "image = cv2.cvtColor(image, cv2.COLOR_BGR2RGB)\n",
    "\n",
    "# CANNY EDGE ALGORITHM\n",
    "edges = cv2.Canny(image, 100, 200)\n",
    "\n",
    "# VISUALIZE THE RESULT\n",
    "plt.figure(figsize=(8,5))\n",
    "plt.subplot(121)\n",
    "plt.axis('off')\n",
    "plt.title('ORIGINAL')\n",
    "plt.imshow(image[:,:,:])\n",
    "                 \n",
    "plt.subplot(122)\n",
    "plt.axis('off')\n",
    "plt.title('EDGES')\n",
    "plt.imshow(edges, cmap='gray')\n",
    "plt.tight_layout()\n",
    "plt.show()\n"
   ]
  },
  {
   "cell_type": "code",
   "execution_count": null,
   "id": "b8e4d3fc",
   "metadata": {},
   "outputs": [],
   "source": []
  }
 ],
 "metadata": {
  "kernelspec": {
   "display_name": "Python 3 (ipykernel)",
   "language": "python",
   "name": "python3"
  },
  "language_info": {
   "codemirror_mode": {
    "name": "ipython",
    "version": 3
   },
   "file_extension": ".py",
   "mimetype": "text/x-python",
   "name": "python",
   "nbconvert_exporter": "python",
   "pygments_lexer": "ipython3",
   "version": "3.9.7"
  }
 },
 "nbformat": 4,
 "nbformat_minor": 5
}
